{
 "cells": [
  {
   "cell_type": "markdown",
   "id": "dde6b35d",
   "metadata": {
    "papermill": {
     "duration": 0.008162,
     "end_time": "2024-09-17T17:03:11.927336",
     "exception": false,
     "start_time": "2024-09-17T17:03:11.919174",
     "status": "completed"
    },
    "tags": []
   },
   "source": [
    "**Veri Setini Yükleme**"
   ]
  },
  {
   "cell_type": "code",
   "execution_count": 1,
   "id": "50482d1f",
   "metadata": {
    "_cell_guid": "b1076dfc-b9ad-4769-8c92-a6c4dae69d19",
    "_uuid": "8f2839f25d086af736a60e9eeb907d3b93b6e0e5",
    "execution": {
     "iopub.execute_input": "2024-09-17T17:03:11.944803Z",
     "iopub.status.busy": "2024-09-17T17:03:11.943736Z",
     "iopub.status.idle": "2024-09-17T17:03:14.557854Z",
     "shell.execute_reply": "2024-09-17T17:03:14.556639Z"
    },
    "papermill": {
     "duration": 2.625518,
     "end_time": "2024-09-17T17:03:14.560539",
     "exception": false,
     "start_time": "2024-09-17T17:03:11.935021",
     "status": "completed"
    },
    "tags": []
   },
   "outputs": [],
   "source": [
    "# Gerekli kütüphaneleri içe aktar\n",
    "import pandas as pd\n",
    "import seaborn as sns\n",
    "import matplotlib.pyplot as plt\n"
   ]
  },
  {
   "cell_type": "code",
   "execution_count": 2,
   "id": "f0259016",
   "metadata": {
    "execution": {
     "iopub.execute_input": "2024-09-17T17:03:14.577592Z",
     "iopub.status.busy": "2024-09-17T17:03:14.577065Z",
     "iopub.status.idle": "2024-09-17T17:03:34.274491Z",
     "shell.execute_reply": "2024-09-17T17:03:34.273234Z"
    },
    "papermill": {
     "duration": 19.708841,
     "end_time": "2024-09-17T17:03:34.277181",
     "exception": false,
     "start_time": "2024-09-17T17:03:14.568340",
     "status": "completed"
    },
    "tags": []
   },
   "outputs": [],
   "source": [
    "# Veri setini Kaggle'dan oku\n",
    "df = pd.read_csv('/kaggle/input/online-payments-fraud-detection-dataset/PS_20174392719_1491204439457_log.csv')\n"
   ]
  },
  {
   "cell_type": "code",
   "execution_count": 3,
   "id": "2bd46f4c",
   "metadata": {
    "execution": {
     "iopub.execute_input": "2024-09-17T17:03:34.294677Z",
     "iopub.status.busy": "2024-09-17T17:03:34.293618Z",
     "iopub.status.idle": "2024-09-17T17:03:34.324797Z",
     "shell.execute_reply": "2024-09-17T17:03:34.323459Z"
    },
    "papermill": {
     "duration": 0.042578,
     "end_time": "2024-09-17T17:03:34.327276",
     "exception": false,
     "start_time": "2024-09-17T17:03:34.284698",
     "status": "completed"
    },
    "tags": []
   },
   "outputs": [
    {
     "data": {
      "text/html": [
       "<div>\n",
       "<style scoped>\n",
       "    .dataframe tbody tr th:only-of-type {\n",
       "        vertical-align: middle;\n",
       "    }\n",
       "\n",
       "    .dataframe tbody tr th {\n",
       "        vertical-align: top;\n",
       "    }\n",
       "\n",
       "    .dataframe thead th {\n",
       "        text-align: right;\n",
       "    }\n",
       "</style>\n",
       "<table border=\"1\" class=\"dataframe\">\n",
       "  <thead>\n",
       "    <tr style=\"text-align: right;\">\n",
       "      <th></th>\n",
       "      <th>step</th>\n",
       "      <th>type</th>\n",
       "      <th>amount</th>\n",
       "      <th>nameOrig</th>\n",
       "      <th>oldbalanceOrg</th>\n",
       "      <th>newbalanceOrig</th>\n",
       "      <th>nameDest</th>\n",
       "      <th>oldbalanceDest</th>\n",
       "      <th>newbalanceDest</th>\n",
       "      <th>isFraud</th>\n",
       "      <th>isFlaggedFraud</th>\n",
       "    </tr>\n",
       "  </thead>\n",
       "  <tbody>\n",
       "    <tr>\n",
       "      <th>0</th>\n",
       "      <td>1</td>\n",
       "      <td>PAYMENT</td>\n",
       "      <td>9839.64</td>\n",
       "      <td>C1231006815</td>\n",
       "      <td>170136.0</td>\n",
       "      <td>160296.36</td>\n",
       "      <td>M1979787155</td>\n",
       "      <td>0.0</td>\n",
       "      <td>0.0</td>\n",
       "      <td>0</td>\n",
       "      <td>0</td>\n",
       "    </tr>\n",
       "    <tr>\n",
       "      <th>1</th>\n",
       "      <td>1</td>\n",
       "      <td>PAYMENT</td>\n",
       "      <td>1864.28</td>\n",
       "      <td>C1666544295</td>\n",
       "      <td>21249.0</td>\n",
       "      <td>19384.72</td>\n",
       "      <td>M2044282225</td>\n",
       "      <td>0.0</td>\n",
       "      <td>0.0</td>\n",
       "      <td>0</td>\n",
       "      <td>0</td>\n",
       "    </tr>\n",
       "    <tr>\n",
       "      <th>2</th>\n",
       "      <td>1</td>\n",
       "      <td>TRANSFER</td>\n",
       "      <td>181.00</td>\n",
       "      <td>C1305486145</td>\n",
       "      <td>181.0</td>\n",
       "      <td>0.00</td>\n",
       "      <td>C553264065</td>\n",
       "      <td>0.0</td>\n",
       "      <td>0.0</td>\n",
       "      <td>1</td>\n",
       "      <td>0</td>\n",
       "    </tr>\n",
       "    <tr>\n",
       "      <th>3</th>\n",
       "      <td>1</td>\n",
       "      <td>CASH_OUT</td>\n",
       "      <td>181.00</td>\n",
       "      <td>C840083671</td>\n",
       "      <td>181.0</td>\n",
       "      <td>0.00</td>\n",
       "      <td>C38997010</td>\n",
       "      <td>21182.0</td>\n",
       "      <td>0.0</td>\n",
       "      <td>1</td>\n",
       "      <td>0</td>\n",
       "    </tr>\n",
       "    <tr>\n",
       "      <th>4</th>\n",
       "      <td>1</td>\n",
       "      <td>PAYMENT</td>\n",
       "      <td>11668.14</td>\n",
       "      <td>C2048537720</td>\n",
       "      <td>41554.0</td>\n",
       "      <td>29885.86</td>\n",
       "      <td>M1230701703</td>\n",
       "      <td>0.0</td>\n",
       "      <td>0.0</td>\n",
       "      <td>0</td>\n",
       "      <td>0</td>\n",
       "    </tr>\n",
       "  </tbody>\n",
       "</table>\n",
       "</div>"
      ],
      "text/plain": [
       "   step      type    amount     nameOrig  oldbalanceOrg  newbalanceOrig  \\\n",
       "0     1   PAYMENT   9839.64  C1231006815       170136.0       160296.36   \n",
       "1     1   PAYMENT   1864.28  C1666544295        21249.0        19384.72   \n",
       "2     1  TRANSFER    181.00  C1305486145          181.0            0.00   \n",
       "3     1  CASH_OUT    181.00   C840083671          181.0            0.00   \n",
       "4     1   PAYMENT  11668.14  C2048537720        41554.0        29885.86   \n",
       "\n",
       "      nameDest  oldbalanceDest  newbalanceDest  isFraud  isFlaggedFraud  \n",
       "0  M1979787155             0.0             0.0        0               0  \n",
       "1  M2044282225             0.0             0.0        0               0  \n",
       "2   C553264065             0.0             0.0        1               0  \n",
       "3    C38997010         21182.0             0.0        1               0  \n",
       "4  M1230701703             0.0             0.0        0               0  "
      ]
     },
     "execution_count": 3,
     "metadata": {},
     "output_type": "execute_result"
    }
   ],
   "source": [
    "# Veri setinin ilk birkaç satırını görüntüle\n",
    "df.head()"
   ]
  },
  {
   "cell_type": "markdown",
   "id": "b1ae5994",
   "metadata": {
    "papermill": {
     "duration": 0.007624,
     "end_time": "2024-09-17T17:03:34.342784",
     "exception": false,
     "start_time": "2024-09-17T17:03:34.335160",
     "status": "completed"
    },
    "tags": []
   },
   "source": [
    "**Veri Keşfi (EDA)**"
   ]
  },
  {
   "cell_type": "code",
   "execution_count": 4,
   "id": "f53cce51",
   "metadata": {
    "execution": {
     "iopub.execute_input": "2024-09-17T17:03:34.360140Z",
     "iopub.status.busy": "2024-09-17T17:03:34.359709Z",
     "iopub.status.idle": "2024-09-17T17:03:34.386057Z",
     "shell.execute_reply": "2024-09-17T17:03:34.384574Z"
    },
    "papermill": {
     "duration": 0.0382,
     "end_time": "2024-09-17T17:03:34.388763",
     "exception": false,
     "start_time": "2024-09-17T17:03:34.350563",
     "status": "completed"
    },
    "tags": []
   },
   "outputs": [
    {
     "name": "stdout",
     "output_type": "stream",
     "text": [
      "<class 'pandas.core.frame.DataFrame'>\n",
      "RangeIndex: 6362620 entries, 0 to 6362619\n",
      "Data columns (total 11 columns):\n",
      " #   Column          Dtype  \n",
      "---  ------          -----  \n",
      " 0   step            int64  \n",
      " 1   type            object \n",
      " 2   amount          float64\n",
      " 3   nameOrig        object \n",
      " 4   oldbalanceOrg   float64\n",
      " 5   newbalanceOrig  float64\n",
      " 6   nameDest        object \n",
      " 7   oldbalanceDest  float64\n",
      " 8   newbalanceDest  float64\n",
      " 9   isFraud         int64  \n",
      " 10  isFlaggedFraud  int64  \n",
      "dtypes: float64(5), int64(3), object(3)\n",
      "memory usage: 534.0+ MB\n"
     ]
    }
   ],
   "source": [
    "# Veri setinin genel bilgileri\n",
    "df.info()"
   ]
  },
  {
   "cell_type": "code",
   "execution_count": 5,
   "id": "28520832",
   "metadata": {
    "execution": {
     "iopub.execute_input": "2024-09-17T17:03:34.406779Z",
     "iopub.status.busy": "2024-09-17T17:03:34.406380Z",
     "iopub.status.idle": "2024-09-17T17:03:35.380596Z",
     "shell.execute_reply": "2024-09-17T17:03:35.379258Z"
    },
    "papermill": {
     "duration": 0.986071,
     "end_time": "2024-09-17T17:03:35.383128",
     "exception": false,
     "start_time": "2024-09-17T17:03:34.397057",
     "status": "completed"
    },
    "tags": []
   },
   "outputs": [
    {
     "data": {
      "text/plain": [
       "step              0\n",
       "type              0\n",
       "amount            0\n",
       "nameOrig          0\n",
       "oldbalanceOrg     0\n",
       "newbalanceOrig    0\n",
       "nameDest          0\n",
       "oldbalanceDest    0\n",
       "newbalanceDest    0\n",
       "isFraud           0\n",
       "isFlaggedFraud    0\n",
       "dtype: int64"
      ]
     },
     "execution_count": 5,
     "metadata": {},
     "output_type": "execute_result"
    }
   ],
   "source": [
    "# Eksik verileri kontrol et\n",
    "df.isnull().sum()\n"
   ]
  },
  {
   "cell_type": "code",
   "execution_count": 6,
   "id": "ce2a83a3",
   "metadata": {
    "execution": {
     "iopub.execute_input": "2024-09-17T17:03:35.400942Z",
     "iopub.status.busy": "2024-09-17T17:03:35.400472Z",
     "iopub.status.idle": "2024-09-17T17:03:37.422463Z",
     "shell.execute_reply": "2024-09-17T17:03:37.421227Z"
    },
    "papermill": {
     "duration": 2.033671,
     "end_time": "2024-09-17T17:03:37.424876",
     "exception": false,
     "start_time": "2024-09-17T17:03:35.391205",
     "status": "completed"
    },
    "tags": []
   },
   "outputs": [
    {
     "data": {
      "text/html": [
       "<div>\n",
       "<style scoped>\n",
       "    .dataframe tbody tr th:only-of-type {\n",
       "        vertical-align: middle;\n",
       "    }\n",
       "\n",
       "    .dataframe tbody tr th {\n",
       "        vertical-align: top;\n",
       "    }\n",
       "\n",
       "    .dataframe thead th {\n",
       "        text-align: right;\n",
       "    }\n",
       "</style>\n",
       "<table border=\"1\" class=\"dataframe\">\n",
       "  <thead>\n",
       "    <tr style=\"text-align: right;\">\n",
       "      <th></th>\n",
       "      <th>step</th>\n",
       "      <th>amount</th>\n",
       "      <th>oldbalanceOrg</th>\n",
       "      <th>newbalanceOrig</th>\n",
       "      <th>oldbalanceDest</th>\n",
       "      <th>newbalanceDest</th>\n",
       "      <th>isFraud</th>\n",
       "      <th>isFlaggedFraud</th>\n",
       "    </tr>\n",
       "  </thead>\n",
       "  <tbody>\n",
       "    <tr>\n",
       "      <th>count</th>\n",
       "      <td>6.362620e+06</td>\n",
       "      <td>6.362620e+06</td>\n",
       "      <td>6.362620e+06</td>\n",
       "      <td>6.362620e+06</td>\n",
       "      <td>6.362620e+06</td>\n",
       "      <td>6.362620e+06</td>\n",
       "      <td>6.362620e+06</td>\n",
       "      <td>6.362620e+06</td>\n",
       "    </tr>\n",
       "    <tr>\n",
       "      <th>mean</th>\n",
       "      <td>2.433972e+02</td>\n",
       "      <td>1.798619e+05</td>\n",
       "      <td>8.338831e+05</td>\n",
       "      <td>8.551137e+05</td>\n",
       "      <td>1.100702e+06</td>\n",
       "      <td>1.224996e+06</td>\n",
       "      <td>1.290820e-03</td>\n",
       "      <td>2.514687e-06</td>\n",
       "    </tr>\n",
       "    <tr>\n",
       "      <th>std</th>\n",
       "      <td>1.423320e+02</td>\n",
       "      <td>6.038582e+05</td>\n",
       "      <td>2.888243e+06</td>\n",
       "      <td>2.924049e+06</td>\n",
       "      <td>3.399180e+06</td>\n",
       "      <td>3.674129e+06</td>\n",
       "      <td>3.590480e-02</td>\n",
       "      <td>1.585775e-03</td>\n",
       "    </tr>\n",
       "    <tr>\n",
       "      <th>min</th>\n",
       "      <td>1.000000e+00</td>\n",
       "      <td>0.000000e+00</td>\n",
       "      <td>0.000000e+00</td>\n",
       "      <td>0.000000e+00</td>\n",
       "      <td>0.000000e+00</td>\n",
       "      <td>0.000000e+00</td>\n",
       "      <td>0.000000e+00</td>\n",
       "      <td>0.000000e+00</td>\n",
       "    </tr>\n",
       "    <tr>\n",
       "      <th>25%</th>\n",
       "      <td>1.560000e+02</td>\n",
       "      <td>1.338957e+04</td>\n",
       "      <td>0.000000e+00</td>\n",
       "      <td>0.000000e+00</td>\n",
       "      <td>0.000000e+00</td>\n",
       "      <td>0.000000e+00</td>\n",
       "      <td>0.000000e+00</td>\n",
       "      <td>0.000000e+00</td>\n",
       "    </tr>\n",
       "    <tr>\n",
       "      <th>50%</th>\n",
       "      <td>2.390000e+02</td>\n",
       "      <td>7.487194e+04</td>\n",
       "      <td>1.420800e+04</td>\n",
       "      <td>0.000000e+00</td>\n",
       "      <td>1.327057e+05</td>\n",
       "      <td>2.146614e+05</td>\n",
       "      <td>0.000000e+00</td>\n",
       "      <td>0.000000e+00</td>\n",
       "    </tr>\n",
       "    <tr>\n",
       "      <th>75%</th>\n",
       "      <td>3.350000e+02</td>\n",
       "      <td>2.087215e+05</td>\n",
       "      <td>1.073152e+05</td>\n",
       "      <td>1.442584e+05</td>\n",
       "      <td>9.430367e+05</td>\n",
       "      <td>1.111909e+06</td>\n",
       "      <td>0.000000e+00</td>\n",
       "      <td>0.000000e+00</td>\n",
       "    </tr>\n",
       "    <tr>\n",
       "      <th>max</th>\n",
       "      <td>7.430000e+02</td>\n",
       "      <td>9.244552e+07</td>\n",
       "      <td>5.958504e+07</td>\n",
       "      <td>4.958504e+07</td>\n",
       "      <td>3.560159e+08</td>\n",
       "      <td>3.561793e+08</td>\n",
       "      <td>1.000000e+00</td>\n",
       "      <td>1.000000e+00</td>\n",
       "    </tr>\n",
       "  </tbody>\n",
       "</table>\n",
       "</div>"
      ],
      "text/plain": [
       "               step        amount  oldbalanceOrg  newbalanceOrig  \\\n",
       "count  6.362620e+06  6.362620e+06   6.362620e+06    6.362620e+06   \n",
       "mean   2.433972e+02  1.798619e+05   8.338831e+05    8.551137e+05   \n",
       "std    1.423320e+02  6.038582e+05   2.888243e+06    2.924049e+06   \n",
       "min    1.000000e+00  0.000000e+00   0.000000e+00    0.000000e+00   \n",
       "25%    1.560000e+02  1.338957e+04   0.000000e+00    0.000000e+00   \n",
       "50%    2.390000e+02  7.487194e+04   1.420800e+04    0.000000e+00   \n",
       "75%    3.350000e+02  2.087215e+05   1.073152e+05    1.442584e+05   \n",
       "max    7.430000e+02  9.244552e+07   5.958504e+07    4.958504e+07   \n",
       "\n",
       "       oldbalanceDest  newbalanceDest       isFraud  isFlaggedFraud  \n",
       "count    6.362620e+06    6.362620e+06  6.362620e+06    6.362620e+06  \n",
       "mean     1.100702e+06    1.224996e+06  1.290820e-03    2.514687e-06  \n",
       "std      3.399180e+06    3.674129e+06  3.590480e-02    1.585775e-03  \n",
       "min      0.000000e+00    0.000000e+00  0.000000e+00    0.000000e+00  \n",
       "25%      0.000000e+00    0.000000e+00  0.000000e+00    0.000000e+00  \n",
       "50%      1.327057e+05    2.146614e+05  0.000000e+00    0.000000e+00  \n",
       "75%      9.430367e+05    1.111909e+06  0.000000e+00    0.000000e+00  \n",
       "max      3.560159e+08    3.561793e+08  1.000000e+00    1.000000e+00  "
      ]
     },
     "execution_count": 6,
     "metadata": {},
     "output_type": "execute_result"
    }
   ],
   "source": [
    "# Sayısal veriler için istatistiksel özet\n",
    "df.describe()\n"
   ]
  },
  {
   "cell_type": "code",
   "execution_count": 7,
   "id": "698f0354",
   "metadata": {
    "execution": {
     "iopub.execute_input": "2024-09-17T17:03:37.443726Z",
     "iopub.status.busy": "2024-09-17T17:03:37.442774Z",
     "iopub.status.idle": "2024-09-17T17:03:38.206638Z",
     "shell.execute_reply": "2024-09-17T17:03:38.205157Z"
    },
    "papermill": {
     "duration": 0.776255,
     "end_time": "2024-09-17T17:03:38.209403",
     "exception": false,
     "start_time": "2024-09-17T17:03:37.433148",
     "status": "completed"
    },
    "tags": []
   },
   "outputs": [
    {
     "data": {
      "image/png": "[encoded data removed]",
      "text/plain": [
       "<Figure size 800x600 with 1 Axes>"
      ]
     },
     "metadata": {},
     "output_type": "display_data"
    }
   ],
   "source": [
    "# Sahtekarlık oranını görselleştir\n",
    "plt.figure(figsize=(8,6))\n",
    "sns.countplot(x='isFraud', data=df)\n",
    "plt.title('Fraud vs Non-Fraud Transactions')\n",
    "plt.show()"
   ]
  },
  {
   "cell_type": "code",
   "execution_count": 8,
   "id": "0dcc1f63",
   "metadata": {
    "execution": {
     "iopub.execute_input": "2024-09-17T17:03:38.228346Z",
     "iopub.status.busy": "2024-09-17T17:03:38.227944Z",
     "iopub.status.idle": "2024-09-17T17:03:42.275910Z",
     "shell.execute_reply": "2024-09-17T17:03:42.274736Z"
    },
    "papermill": {
     "duration": 4.060519,
     "end_time": "2024-09-17T17:03:42.278490",
     "exception": false,
     "start_time": "2024-09-17T17:03:38.217971",
     "status": "completed"
    },
    "tags": []
   },
   "outputs": [
    {
     "data": {
      "image/png": "[encoded data removed]",
      "text/plain": [
       "<Figure size 800x600 with 1 Axes>"
      ]
     },
     "metadata": {},
     "output_type": "display_data"
    }
   ],
   "source": [
    "# İşlem türlerini görselleştir\n",
    "plt.figure(figsize=(8,6))\n",
    "sns.countplot(x='type', data=df)\n",
    "plt.title('Transaction Types')\n",
    "plt.show()\n"
   ]
  },
  {
   "cell_type": "code",
   "execution_count": 9,
   "id": "73adda10",
   "metadata": {
    "execution": {
     "iopub.execute_input": "2024-09-17T17:03:42.299261Z",
     "iopub.status.busy": "2024-09-17T17:03:42.298059Z",
     "iopub.status.idle": "2024-09-17T17:03:55.465107Z",
     "shell.execute_reply": "2024-09-17T17:03:55.463786Z"
    },
    "papermill": {
     "duration": 13.18035,
     "end_time": "2024-09-17T17:03:55.467905",
     "exception": false,
     "start_time": "2024-09-17T17:03:42.287555",
     "status": "completed"
    },
    "tags": []
   },
   "outputs": [
    {
     "data": {
      "image/png": "[encoded data removed]",
      "text/plain": [
       "<Figure size 800x600 with 1 Axes>"
      ]
     },
     "metadata": {},
     "output_type": "display_data"
    }
   ],
   "source": [
    "# Eski bakiye ve işlem miktarı arasındaki ilişkiyi görselleştir\n",
    "plt.figure(figsize=(8,6))\n",
    "sns.scatterplot(x='oldbalanceOrg', y='amount', data=df)\n",
    "plt.title('Old Balance vs Transaction Amount')\n",
    "plt.show()"
   ]
  },
  {
   "cell_type": "markdown",
   "id": "3c5fe1d4",
   "metadata": {
    "papermill": {
     "duration": 0.009632,
     "end_time": "2024-09-17T17:03:55.487802",
     "exception": false,
     "start_time": "2024-09-17T17:03:55.478170",
     "status": "completed"
    },
    "tags": []
   },
   "source": [
    "**Veri Ön İşleme**"
   ]
  },
  {
   "cell_type": "code",
   "execution_count": 10,
   "id": "ec4e132e",
   "metadata": {
    "execution": {
     "iopub.execute_input": "2024-09-17T17:03:55.509306Z",
     "iopub.status.busy": "2024-09-17T17:03:55.508867Z",
     "iopub.status.idle": "2024-09-17T17:03:56.893264Z",
     "shell.execute_reply": "2024-09-17T17:03:56.891880Z"
    },
    "papermill": {
     "duration": 1.398295,
     "end_time": "2024-09-17T17:03:56.895929",
     "exception": false,
     "start_time": "2024-09-17T17:03:55.497634",
     "status": "completed"
    },
    "tags": []
   },
   "outputs": [],
   "source": [
    "# Eksik verileri kaldır\n",
    "df = df.dropna()"
   ]
  },
  {
   "cell_type": "code",
   "execution_count": 11,
   "id": "46e100c1",
   "metadata": {
    "execution": {
     "iopub.execute_input": "2024-09-17T17:03:56.918496Z",
     "iopub.status.busy": "2024-09-17T17:03:56.917562Z",
     "iopub.status.idle": "2024-09-17T17:03:58.606288Z",
     "shell.execute_reply": "2024-09-17T17:03:58.604603Z"
    },
    "papermill": {
     "duration": 1.703287,
     "end_time": "2024-09-17T17:03:58.609276",
     "exception": false,
     "start_time": "2024-09-17T17:03:56.905989",
     "status": "completed"
    },
    "tags": []
   },
   "outputs": [],
   "source": [
    "# Kategorik veriler için one-hot encoding\n",
    "df = pd.get_dummies(df, columns=['type'], drop_first=True)"
   ]
  },
  {
   "cell_type": "code",
   "execution_count": 12,
   "id": "b0709e02",
   "metadata": {
    "execution": {
     "iopub.execute_input": "2024-09-17T17:03:58.631080Z",
     "iopub.status.busy": "2024-09-17T17:03:58.630205Z",
     "iopub.status.idle": "2024-09-17T17:03:58.721730Z",
     "shell.execute_reply": "2024-09-17T17:03:58.720304Z"
    },
    "papermill": {
     "duration": 0.105476,
     "end_time": "2024-09-17T17:03:58.724501",
     "exception": false,
     "start_time": "2024-09-17T17:03:58.619025",
     "status": "completed"
    },
    "tags": []
   },
   "outputs": [],
   "source": [
    "# Özellikler ve hedef\n",
    "X = df[['amount', 'oldbalanceOrg', 'newbalanceOrig', 'oldbalanceDest', 'newbalanceDest']]  # Özellikler\n",
    "y = df['isFraud']  # Hedef (sahtekarlık olup olmadığı)"
   ]
  },
  {
   "cell_type": "markdown",
   "id": "09a59a5d",
   "metadata": {
    "papermill": {
     "duration": 0.009664,
     "end_time": "2024-09-17T17:03:58.743966",
     "exception": false,
     "start_time": "2024-09-17T17:03:58.734302",
     "status": "completed"
    },
    "tags": []
   },
   "source": [
    "**Gözetimli Öğrenme (Lojistik Regresyon Modeli)**"
   ]
  },
  {
   "cell_type": "code",
   "execution_count": 13,
   "id": "4f9a4a66",
   "metadata": {
    "execution": {
     "iopub.execute_input": "2024-09-17T17:03:58.766299Z",
     "iopub.status.busy": "2024-09-17T17:03:58.765886Z",
     "iopub.status.idle": "2024-09-17T17:03:59.152251Z",
     "shell.execute_reply": "2024-09-17T17:03:59.151070Z"
    },
    "papermill": {
     "duration": 0.400376,
     "end_time": "2024-09-17T17:03:59.154930",
     "exception": false,
     "start_time": "2024-09-17T17:03:58.754554",
     "status": "completed"
    },
    "tags": []
   },
   "outputs": [],
   "source": [
    "from sklearn.model_selection import train_test_split\n",
    "from sklearn.linear_model import LogisticRegression\n",
    "from sklearn.metrics import accuracy_score, classification_report"
   ]
  },
  {
   "cell_type": "code",
   "execution_count": 14,
   "id": "01cf500c",
   "metadata": {
    "execution": {
     "iopub.execute_input": "2024-09-17T17:03:59.176492Z",
     "iopub.status.busy": "2024-09-17T17:03:59.176053Z",
     "iopub.status.idle": "2024-09-17T17:04:00.169540Z",
     "shell.execute_reply": "2024-09-17T17:04:00.168153Z"
    },
    "papermill": {
     "duration": 1.007488,
     "end_time": "2024-09-17T17:04:00.172314",
     "exception": false,
     "start_time": "2024-09-17T17:03:59.164826",
     "status": "completed"
    },
    "tags": []
   },
   "outputs": [],
   "source": [
    "# Veriyi eğitim ve test setlerine böl\n",
    "X_train, X_test, y_train, y_test = train_test_split(X, y, test_size=0.2, random_state=42)\n"
   ]
  },
  {
   "cell_type": "code",
   "execution_count": 15,
   "id": "396b5b0b",
   "metadata": {
    "execution": {
     "iopub.execute_input": "2024-09-17T17:04:00.193948Z",
     "iopub.status.busy": "2024-09-17T17:04:00.193419Z",
     "iopub.status.idle": "2024-09-17T17:04:19.083303Z",
     "shell.execute_reply": "2024-09-17T17:04:19.081968Z"
    },
    "papermill": {
     "duration": 18.9046,
     "end_time": "2024-09-17T17:04:19.086726",
     "exception": false,
     "start_time": "2024-09-17T17:04:00.182126",
     "status": "completed"
    },
    "tags": []
   },
   "outputs": [
    {
     "data": {
      "text/html": [
       "<style>#sk-container-id-1 {color: black;background-color: white;}#sk-container-id-1 pre{padding: 0;}#sk-container-id-1 div.sk-toggleable {background-color: white;}#sk-container-id-1 label.sk-toggleable__label {cursor: pointer;display: block;width: 100%;margin-bottom: 0;padding: 0.3em;box-sizing: border-box;text-align: center;}#sk-container-id-1 label.sk-toggleable__label-arrow:before {content: \"▸\";float: left;margin-right: 0.25em;color: #696969;}#sk-container-id-1 label.sk-toggleable__label-arrow:hover:before {color: black;}#sk-container-id-1 div.sk-estimator:hover label.sk-toggleable__label-arrow:before {color: black;}#sk-container-id-1 div.sk-toggleable__content {max-height: 0;max-width: 0;overflow: hidden;text-align: left;background-color: #f0f8ff;}#sk-container-id-1 div.sk-toggleable__content pre {margin: 0.2em;color: black;border-radius: 0.25em;background-color: #f0f8ff;}#sk-container-id-1 input.sk-toggleable__control:checked~div.sk-toggleable__content {max-height: 200px;max-width: 100%;overflow: auto;}#sk-container-id-1 input.sk-toggleable__control:checked~label.sk-toggleable__label-arrow:before {content: \"▾\";}#sk-container-id-1 div.sk-estimator input.sk-toggleable__control:checked~label.sk-toggleable__label {background-color: #d4ebff;}#sk-container-id-1 div.sk-label input.sk-toggleable__control:checked~label.sk-toggleable__label {background-color: #d4ebff;}#sk-container-id-1 input.sk-hidden--visually {border: 0;clip: rect(1px 1px 1px 1px);clip: rect(1px, 1px, 1px, 1px);height: 1px;margin: -1px;overflow: hidden;padding: 0;position: absolute;width: 1px;}#sk-container-id-1 div.sk-estimator {font-family: monospace;background-color: #f0f8ff;border: 1px dotted black;border-radius: 0.25em;box-sizing: border-box;margin-bottom: 0.5em;}#sk-container-id-1 div.sk-estimator:hover {background-color: #d4ebff;}#sk-container-id-1 div.sk-parallel-item::after {content: \"\";width: 100%;border-bottom: 1px solid gray;flex-grow: 1;}#sk-container-id-1 div.sk-label:hover label.sk-toggleable__label {background-color: #d4ebff;}#sk-container-id-1 div.sk-serial::before {content: \"\";position: absolute;border-left: 1px solid gray;box-sizing: border-box;top: 0;bottom: 0;left: 50%;z-index: 0;}#sk-container-id-1 div.sk-serial {display: flex;flex-direction: column;align-items: center;background-color: white;padding-right: 0.2em;padding-left: 0.2em;position: relative;}#sk-container-id-1 div.sk-item {position: relative;z-index: 1;}#sk-container-id-1 div.sk-parallel {display: flex;align-items: stretch;justify-content: center;background-color: white;position: relative;}#sk-container-id-1 div.sk-item::before, #sk-container-id-1 div.sk-parallel-item::before {content: \"\";position: absolute;border-left: 1px solid gray;box-sizing: border-box;top: 0;bottom: 0;left: 50%;z-index: -1;}#sk-container-id-1 div.sk-parallel-item {display: flex;flex-direction: column;z-index: 1;position: relative;background-color: white;}#sk-container-id-1 div.sk-parallel-item:first-child::after {align-self: flex-end;width: 50%;}#sk-container-id-1 div.sk-parallel-item:last-child::after {align-self: flex-start;width: 50%;}#sk-container-id-1 div.sk-parallel-item:only-child::after {width: 0;}#sk-container-id-1 div.sk-dashed-wrapped {border: 1px dashed gray;margin: 0 0.4em 0.5em 0.4em;box-sizing: border-box;padding-bottom: 0.4em;background-color: white;}#sk-container-id-1 div.sk-label label {font-family: monospace;font-weight: bold;display: inline-block;line-height: 1.2em;}#sk-container-id-1 div.sk-label-container {text-align: center;}#sk-container-id-1 div.sk-container {/* jupyter's `normalize.less` sets `[hidden] { display: none; }` but bootstrap.min.css set `[hidden] { display: none !important; }` so we also need the `!important` here to be able to override the default hidden behavior on the sphinx rendered scikit-learn.org. See: https://github.com/scikit-learn/scikit-learn/issues/21755 */display: inline-block !important;position: relative;}#sk-container-id-1 div.sk-text-repr-fallback {display: none;}</style><div id=\"sk-container-id-1\" class=\"sk-top-container\"><div class=\"sk-text-repr-fallback\"><pre>LogisticRegression()</pre><b>In a Jupyter environment, please rerun this cell to show the HTML representation or trust the notebook. <br />On GitHub, the HTML representation is unable to render, please try loading this page with nbviewer.org.</b></div><div class=\"sk-container\" hidden><div class=\"sk-item\"><div class=\"sk-estimator sk-toggleable\"><input class=\"sk-toggleable__control sk-hidden--visually\" id=\"sk-estimator-id-1\" type=\"checkbox\" checked><label for=\"sk-estimator-id-1\" class=\"sk-toggleable__label sk-toggleable__label-arrow\">LogisticRegression</label><div class=\"sk-toggleable__content\"><pre>LogisticRegression()</pre></div></div></div></div></div>"
      ],
      "text/plain": [
       "LogisticRegression()"
      ]
     },
     "execution_count": 15,
     "metadata": {},
     "output_type": "execute_result"
    }
   ],
   "source": [
    "# Lojistik regresyon modelini eğit\n",
    "model = LogisticRegression()\n",
    "model.fit(X_train, y_train)"
   ]
  },
  {
   "cell_type": "code",
   "execution_count": 16,
   "id": "6ab51433",
   "metadata": {
    "execution": {
     "iopub.execute_input": "2024-09-17T17:04:19.122916Z",
     "iopub.status.busy": "2024-09-17T17:04:19.122309Z",
     "iopub.status.idle": "2024-09-17T17:04:19.160458Z",
     "shell.execute_reply": "2024-09-17T17:04:19.159167Z"
    },
    "papermill": {
     "duration": 0.059941,
     "end_time": "2024-09-17T17:04:19.163923",
     "exception": false,
     "start_time": "2024-09-17T17:04:19.103982",
     "status": "completed"
    },
    "tags": []
   },
   "outputs": [],
   "source": [
    "# Tahmin yap ve performansı değerlendir\n",
    "y_pred = model.predict(X_test)\n"
   ]
  },
  {
   "cell_type": "code",
   "execution_count": 17,
   "id": "9e743cea",
   "metadata": {
    "execution": {
     "iopub.execute_input": "2024-09-17T17:04:19.200315Z",
     "iopub.status.busy": "2024-09-17T17:04:19.199714Z",
     "iopub.status.idle": "2024-09-17T17:04:19.349407Z",
     "shell.execute_reply": "2024-09-17T17:04:19.348074Z"
    },
    "papermill": {
     "duration": 0.170791,
     "end_time": "2024-09-17T17:04:19.351785",
     "exception": false,
     "start_time": "2024-09-17T17:04:19.180994",
     "status": "completed"
    },
    "tags": []
   },
   "outputs": [
    {
     "name": "stdout",
     "output_type": "stream",
     "text": [
      "Accuracy: 0.9976833442827011\n"
     ]
    }
   ],
   "source": [
    "# Doğruluğu hesapla\n",
    "accuracy = accuracy_score(y_test, y_pred)\n",
    "print(f\"Accuracy: {accuracy}\")\n"
   ]
  },
  {
   "cell_type": "code",
   "execution_count": 18,
   "id": "2311bc77",
   "metadata": {
    "execution": {
     "iopub.execute_input": "2024-09-17T17:04:19.373477Z",
     "iopub.status.busy": "2024-09-17T17:04:19.373034Z",
     "iopub.status.idle": "2024-09-17T17:04:21.536818Z",
     "shell.execute_reply": "2024-09-17T17:04:21.535190Z"
    },
    "papermill": {
     "duration": 2.177583,
     "end_time": "2024-09-17T17:04:21.539308",
     "exception": false,
     "start_time": "2024-09-17T17:04:19.361725",
     "status": "completed"
    },
    "tags": []
   },
   "outputs": [
    {
     "name": "stdout",
     "output_type": "stream",
     "text": [
      "              precision    recall  f1-score   support\n",
      "\n",
      "           0       1.00      1.00      1.00   1270904\n",
      "           1       0.33      0.80      0.47      1620\n",
      "\n",
      "    accuracy                           1.00   1272524\n",
      "   macro avg       0.67      0.90      0.73   1272524\n",
      "weighted avg       1.00      1.00      1.00   1272524\n",
      "\n"
     ]
    }
   ],
   "source": [
    "# Sınıflandırma raporu\n",
    "print(classification_report(y_test, y_pred))"
   ]
  },
  {
   "cell_type": "markdown",
   "id": "11b04f8c",
   "metadata": {
    "papermill": {
     "duration": 0.009546,
     "end_time": "2024-09-17T17:04:21.559482",
     "exception": false,
     "start_time": "2024-09-17T17:04:21.549936",
     "status": "completed"
    },
    "tags": []
   },
   "source": [
    "**Gözetimsiz Öğrenme (K-Means ile Kümeleme)**"
   ]
  },
  {
   "cell_type": "markdown",
   "id": "3377c254",
   "metadata": {
    "papermill": {
     "duration": 0.010479,
     "end_time": "2024-09-17T17:04:21.579888",
     "exception": false,
     "start_time": "2024-09-17T17:04:21.569409",
     "status": "completed"
    },
    "tags": []
   },
   "source": [
    "Elbow Yöntemi ile En İyi K Değerinin Bulunması"
   ]
  },
  {
   "cell_type": "code",
   "execution_count": 19,
   "id": "7dd66795",
   "metadata": {
    "execution": {
     "iopub.execute_input": "2024-09-17T17:04:21.602192Z",
     "iopub.status.busy": "2024-09-17T17:04:21.601738Z",
     "iopub.status.idle": "2024-09-17T17:04:21.781732Z",
     "shell.execute_reply": "2024-09-17T17:04:21.780569Z"
    },
    "papermill": {
     "duration": 0.19447,
     "end_time": "2024-09-17T17:04:21.784444",
     "exception": false,
     "start_time": "2024-09-17T17:04:21.589974",
     "status": "completed"
    },
    "tags": []
   },
   "outputs": [],
   "source": [
    "from sklearn.cluster import KMeans\n"
   ]
  },
  {
   "cell_type": "code",
   "execution_count": 20,
   "id": "7f40f6dc",
   "metadata": {
    "execution": {
     "iopub.execute_input": "2024-09-17T17:04:21.806517Z",
     "iopub.status.busy": "2024-09-17T17:04:21.806105Z",
     "iopub.status.idle": "2024-09-17T17:04:22.426340Z",
     "shell.execute_reply": "2024-09-17T17:04:22.425336Z"
    },
    "papermill": {
     "duration": 0.634425,
     "end_time": "2024-09-17T17:04:22.429033",
     "exception": false,
     "start_time": "2024-09-17T17:04:21.794608",
     "status": "completed"
    },
    "tags": []
   },
   "outputs": [],
   "source": [
    "# Veri setinin küçük bir örneğini kullanarak hızlandırma\n",
    "df_sample = df.sample(frac=0.1, random_state=42)\n"
   ]
  },
  {
   "cell_type": "code",
   "execution_count": 21,
   "id": "21531c0d",
   "metadata": {
    "execution": {
     "iopub.execute_input": "2024-09-17T17:04:22.451351Z",
     "iopub.status.busy": "2024-09-17T17:04:22.450442Z",
     "iopub.status.idle": "2024-09-17T17:04:22.466483Z",
     "shell.execute_reply": "2024-09-17T17:04:22.465403Z"
    },
    "papermill": {
     "duration": 0.029877,
     "end_time": "2024-09-17T17:04:22.469001",
     "exception": false,
     "start_time": "2024-09-17T17:04:22.439124",
     "status": "completed"
    },
    "tags": []
   },
   "outputs": [],
   "source": [
    "# Kümeleme için özellikleri yeniden belirle\n",
    "X_sample = df_sample[['amount', 'oldbalanceOrg', 'newbalanceOrig', 'oldbalanceDest', 'newbalanceDest']]\n"
   ]
  },
  {
   "cell_type": "code",
   "execution_count": 22,
   "id": "3a56337d",
   "metadata": {
    "execution": {
     "iopub.execute_input": "2024-09-17T17:04:22.490616Z",
     "iopub.status.busy": "2024-09-17T17:04:22.490218Z",
     "iopub.status.idle": "2024-09-17T17:04:49.482189Z",
     "shell.execute_reply": "2024-09-17T17:04:49.480849Z"
    },
    "papermill": {
     "duration": 27.005995,
     "end_time": "2024-09-17T17:04:49.484961",
     "exception": false,
     "start_time": "2024-09-17T17:04:22.478966",
     "status": "completed"
    },
    "tags": []
   },
   "outputs": [],
   "source": [
    "# Elbow Yöntemi için K değerleri arasındaki farkları incele\n",
    "inertia = []\n",
    "K_range = range(2, 11)  # 2'den 10'a kadar farklı K değerleri deneyelim\n",
    "\n",
    "for k in K_range:\n",
    "    kmeans = KMeans(n_clusters=k, random_state=42, n_init=5)\n",
    "    kmeans.fit(X_sample)\n",
    "    inertia.append(kmeans.inertia_)\n"
   ]
  },
  {
   "cell_type": "code",
   "execution_count": 23,
   "id": "454305c7",
   "metadata": {
    "execution": {
     "iopub.execute_input": "2024-09-17T17:04:49.508733Z",
     "iopub.status.busy": "2024-09-17T17:04:49.507627Z",
     "iopub.status.idle": "2024-09-17T17:04:49.816249Z",
     "shell.execute_reply": "2024-09-17T17:04:49.815045Z"
    },
    "papermill": {
     "duration": 0.323379,
     "end_time": "2024-09-17T17:04:49.818933",
     "exception": false,
     "start_time": "2024-09-17T17:04:49.495554",
     "status": "completed"
    },
    "tags": []
   },
   "outputs": [
    {
     "data": {
      "image/png": "[encoded data removed]",
      "text/plain": [
       "<Figure size 800x600 with 1 Axes>"
      ]
     },
     "metadata": {},
     "output_type": "display_data"
    }
   ],
   "source": [
    "# Elbow Grafiği\n",
    "plt.figure(figsize=(8, 6))\n",
    "plt.plot(K_range, inertia, 'bx-')\n",
    "plt.xlabel('K Değeri (Küme Sayısı)')\n",
    "plt.ylabel('Inertia (Sapmaların Toplamı)')\n",
    "plt.title('Elbow Yöntemi ile K Değerinin Belirlenmesi')\n",
    "plt.show()"
   ]
  },
  {
   "cell_type": "markdown",
   "id": "cf33a452",
   "metadata": {
    "papermill": {
     "duration": 0.010358,
     "end_time": "2024-09-17T17:04:49.840104",
     "exception": false,
     "start_time": "2024-09-17T17:04:49.829746",
     "status": "completed"
    },
    "tags": []
   },
   "source": [
    "K-Means Kümeleme (En İyi K ile)"
   ]
  },
  {
   "cell_type": "code",
   "execution_count": 24,
   "id": "41d7618c",
   "metadata": {
    "execution": {
     "iopub.execute_input": "2024-09-17T17:04:49.863284Z",
     "iopub.status.busy": "2024-09-17T17:04:49.862826Z",
     "iopub.status.idle": "2024-09-17T17:04:49.868168Z",
     "shell.execute_reply": "2024-09-17T17:04:49.866704Z"
    },
    "papermill": {
     "duration": 0.019415,
     "end_time": "2024-09-17T17:04:49.870300",
     "exception": false,
     "start_time": "2024-09-17T17:04:49.850885",
     "status": "completed"
    },
    "tags": []
   },
   "outputs": [],
   "source": [
    "# En iyi K değerini Elbow yöntemine göre seç (örneğin K = 3)\n",
    "optimal_k = 3\n"
   ]
  },
  {
   "cell_type": "code",
   "execution_count": 25,
   "id": "1033ba40",
   "metadata": {
    "execution": {
     "iopub.execute_input": "2024-09-17T17:04:49.893626Z",
     "iopub.status.busy": "2024-09-17T17:04:49.893118Z",
     "iopub.status.idle": "2024-09-17T17:04:52.151502Z",
     "shell.execute_reply": "2024-09-17T17:04:52.150394Z"
    },
    "papermill": {
     "duration": 2.27301,
     "end_time": "2024-09-17T17:04:52.154021",
     "exception": false,
     "start_time": "2024-09-17T17:04:49.881011",
     "status": "completed"
    },
    "tags": []
   },
   "outputs": [
    {
     "data": {
      "text/html": [
       "<style>#sk-container-id-2 {color: black;background-color: white;}#sk-container-id-2 pre{padding: 0;}#sk-container-id-2 div.sk-toggleable {background-color: white;}#sk-container-id-2 label.sk-toggleable__label {cursor: pointer;display: block;width: 100%;margin-bottom: 0;padding: 0.3em;box-sizing: border-box;text-align: center;}#sk-container-id-2 label.sk-toggleable__label-arrow:before {content: \"▸\";float: left;margin-right: 0.25em;color: #696969;}#sk-container-id-2 label.sk-toggleable__label-arrow:hover:before {color: black;}#sk-container-id-2 div.sk-estimator:hover label.sk-toggleable__label-arrow:before {color: black;}#sk-container-id-2 div.sk-toggleable__content {max-height: 0;max-width: 0;overflow: hidden;text-align: left;background-color: #f0f8ff;}#sk-container-id-2 div.sk-toggleable__content pre {margin: 0.2em;color: black;border-radius: 0.25em;background-color: #f0f8ff;}#sk-container-id-2 input.sk-toggleable__control:checked~div.sk-toggleable__content {max-height: 200px;max-width: 100%;overflow: auto;}#sk-container-id-2 input.sk-toggleable__control:checked~label.sk-toggleable__label-arrow:before {content: \"▾\";}#sk-container-id-2 div.sk-estimator input.sk-toggleable__control:checked~label.sk-toggleable__label {background-color: #d4ebff;}#sk-container-id-2 div.sk-label input.sk-toggleable__control:checked~label.sk-toggleable__label {background-color: #d4ebff;}#sk-container-id-2 input.sk-hidden--visually {border: 0;clip: rect(1px 1px 1px 1px);clip: rect(1px, 1px, 1px, 1px);height: 1px;margin: -1px;overflow: hidden;padding: 0;position: absolute;width: 1px;}#sk-container-id-2 div.sk-estimator {font-family: monospace;background-color: #f0f8ff;border: 1px dotted black;border-radius: 0.25em;box-sizing: border-box;margin-bottom: 0.5em;}#sk-container-id-2 div.sk-estimator:hover {background-color: #d4ebff;}#sk-container-id-2 div.sk-parallel-item::after {content: \"\";width: 100%;border-bottom: 1px solid gray;flex-grow: 1;}#sk-container-id-2 div.sk-label:hover label.sk-toggleable__label {background-color: #d4ebff;}#sk-container-id-2 div.sk-serial::before {content: \"\";position: absolute;border-left: 1px solid gray;box-sizing: border-box;top: 0;bottom: 0;left: 50%;z-index: 0;}#sk-container-id-2 div.sk-serial {display: flex;flex-direction: column;align-items: center;background-color: white;padding-right: 0.2em;padding-left: 0.2em;position: relative;}#sk-container-id-2 div.sk-item {position: relative;z-index: 1;}#sk-container-id-2 div.sk-parallel {display: flex;align-items: stretch;justify-content: center;background-color: white;position: relative;}#sk-container-id-2 div.sk-item::before, #sk-container-id-2 div.sk-parallel-item::before {content: \"\";position: absolute;border-left: 1px solid gray;box-sizing: border-box;top: 0;bottom: 0;left: 50%;z-index: -1;}#sk-container-id-2 div.sk-parallel-item {display: flex;flex-direction: column;z-index: 1;position: relative;background-color: white;}#sk-container-id-2 div.sk-parallel-item:first-child::after {align-self: flex-end;width: 50%;}#sk-container-id-2 div.sk-parallel-item:last-child::after {align-self: flex-start;width: 50%;}#sk-container-id-2 div.sk-parallel-item:only-child::after {width: 0;}#sk-container-id-2 div.sk-dashed-wrapped {border: 1px dashed gray;margin: 0 0.4em 0.5em 0.4em;box-sizing: border-box;padding-bottom: 0.4em;background-color: white;}#sk-container-id-2 div.sk-label label {font-family: monospace;font-weight: bold;display: inline-block;line-height: 1.2em;}#sk-container-id-2 div.sk-label-container {text-align: center;}#sk-container-id-2 div.sk-container {/* jupyter's `normalize.less` sets `[hidden] { display: none; }` but bootstrap.min.css set `[hidden] { display: none !important; }` so we also need the `!important` here to be able to override the default hidden behavior on the sphinx rendered scikit-learn.org. See: https://github.com/scikit-learn/scikit-learn/issues/21755 */display: inline-block !important;position: relative;}#sk-container-id-2 div.sk-text-repr-fallback {display: none;}</style><div id=\"sk-container-id-2\" class=\"sk-top-container\"><div class=\"sk-text-repr-fallback\"><pre>KMeans(n_clusters=3, n_init=5, random_state=42)</pre><b>In a Jupyter environment, please rerun this cell to show the HTML representation or trust the notebook. <br />On GitHub, the HTML representation is unable to render, please try loading this page with nbviewer.org.</b></div><div class=\"sk-container\" hidden><div class=\"sk-item\"><div class=\"sk-estimator sk-toggleable\"><input class=\"sk-toggleable__control sk-hidden--visually\" id=\"sk-estimator-id-2\" type=\"checkbox\" checked><label for=\"sk-estimator-id-2\" class=\"sk-toggleable__label sk-toggleable__label-arrow\">KMeans</label><div class=\"sk-toggleable__content\"><pre>KMeans(n_clusters=3, n_init=5, random_state=42)</pre></div></div></div></div></div>"
      ],
      "text/plain": [
       "KMeans(n_clusters=3, n_init=5, random_state=42)"
      ]
     },
     "execution_count": 25,
     "metadata": {},
     "output_type": "execute_result"
    }
   ],
   "source": [
    "# K-Means modelini en iyi K değeri ile eğit\n",
    "kmeans = KMeans(n_clusters=optimal_k, random_state=42, n_init=5)\n",
    "kmeans.fit(X_sample)\n"
   ]
  },
  {
   "cell_type": "code",
   "execution_count": 26,
   "id": "224732d1",
   "metadata": {
    "execution": {
     "iopub.execute_input": "2024-09-17T17:04:52.177398Z",
     "iopub.status.busy": "2024-09-17T17:04:52.176974Z",
     "iopub.status.idle": "2024-09-17T17:04:52.183283Z",
     "shell.execute_reply": "2024-09-17T17:04:52.182122Z"
    },
    "papermill": {
     "duration": 0.020781,
     "end_time": "2024-09-17T17:04:52.185709",
     "exception": false,
     "start_time": "2024-09-17T17:04:52.164928",
     "status": "completed"
    },
    "tags": []
   },
   "outputs": [],
   "source": [
    "# Küme etiketlerini veri setine ekle\n",
    "df_sample['Cluster'] = kmeans.labels_\n"
   ]
  },
  {
   "cell_type": "code",
   "execution_count": 27,
   "id": "3bf06ff6",
   "metadata": {
    "execution": {
     "iopub.execute_input": "2024-09-17T17:04:52.209834Z",
     "iopub.status.busy": "2024-09-17T17:04:52.209375Z",
     "iopub.status.idle": "2024-09-17T17:04:52.225572Z",
     "shell.execute_reply": "2024-09-17T17:04:52.224318Z"
    },
    "papermill": {
     "duration": 0.031305,
     "end_time": "2024-09-17T17:04:52.228091",
     "exception": false,
     "start_time": "2024-09-17T17:04:52.196786",
     "status": "completed"
    },
    "tags": []
   },
   "outputs": [
    {
     "name": "stdout",
     "output_type": "stream",
     "text": [
      "         Cluster      amount  oldbalanceOrg  newbalanceOrig\n",
      "3737323        0   330218.42       20866.00       351084.42\n",
      "264914         0    11647.08       30370.00        18722.92\n",
      "85647          0   152264.21      106589.00       258853.21\n",
      "5899326        0  1551760.63           0.00            0.00\n",
      "2544263        0    78172.30     2921331.58      2999503.88\n"
     ]
    }
   ],
   "source": [
    "# Kümeleme sonuçlarını incele\n",
    "print(df_sample[['Cluster', 'amount', 'oldbalanceOrg', 'newbalanceOrig']].head())"
   ]
  }
 ],
 "metadata": {
  "kaggle": {
   "accelerator": "none",
   "dataSources": [
    {
     "datasetId": 2093649,
     "sourceId": 3478314,
     "sourceType": "datasetVersion"
    }
   ],
   "dockerImageVersionId": 30761,
   "isGpuEnabled": false,
   "isInternetEnabled": false,
   "language": "python",
   "sourceType": "notebook"
  },
  "kernelspec": {
   "display_name": "Python 3",
   "language": "python",
   "name": "python3"
  },
  "language_info": {
   "codemirror_mode": {
    "name": "ipython",
    "version": 3
   },
   "file_extension": ".py",
   "mimetype": "text/x-python",
   "name": "python",
   "nbconvert_exporter": "python",
   "pygments_lexer": "ipython3",
   "version": "3.10.14"
  },
  "papermill": {
   "default_parameters": {},
   "duration": 104.818684,
   "end_time": "2024-09-17T17:04:53.463041",
   "environment_variables": {},
   "exception": null,
   "input_path": "__notebook__.ipynb",
   "output_path": "__notebook__.ipynb",
   "parameters": {},
   "start_time": "2024-09-17T17:03:08.644357",
   "version": "2.6.0"
  }
 },
 "nbformat": 4,
 "nbformat_minor": 5
}
